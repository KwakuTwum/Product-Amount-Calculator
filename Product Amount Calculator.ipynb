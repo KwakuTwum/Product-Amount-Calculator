{
 "cells": [
  {
   "cell_type": "code",
   "execution_count": 2,
   "id": "066acc27-7304-4fb0-8341-7374853c0315",
   "metadata": {},
   "outputs": [
    {
     "name": "stdout",
     "output_type": "stream",
     "text": [
      "Welcome to Asanka Hotel\n"
     ]
    },
    {
     "name": "stdin",
     "output_type": "stream",
     "text": [
      "Enter the charge for the food : $ 50\n"
     ]
    },
    {
     "name": "stdout",
     "output_type": "stream",
     "text": [
      "The tip amount is $9.00\n",
      "The sales tax due is $3.50\n",
      "The grand_total is $62.50\n",
      "Thank you for dining at Asanka Hotel\n"
     ]
    }
   ],
   "source": [
    "#Welcome the customer to the hotel\n",
    "print(\"Welcome to Asanka Hotel\")\n",
    "\n",
    "#string requesting the user to input the charge for the food. Since it's a currecy we convert it into a float to accommodate decimals\n",
    "charge = float(input(\"Enter the charge for the food : $\"))\n",
    "\n",
    "tip = charge * .18\n",
    "\n",
    "sales_tax = charge * .07\n",
    "\n",
    "grand_total = charge + tip + sales_tax\n",
    "\n",
    "#We print out what is supposed to be displayed after the user has keyed in the charge for the food\n",
    "#We use f to introduce a format string to avoid a syntax error since the string contains both character and ints/floats\n",
    "#:.2f has been used to convert the respective amounts into floats of 2 decimal places\n",
    "\n",
    "print(f\"The tip amount is ${tip:.2f}\")\n",
    "\n",
    "print(f\"The sales tax due is ${sales_tax:.2f}\")\n",
    "\n",
    "print(f\"The grand_total is ${grand_total:.2f}\")\n",
    "\n",
    "#Thank the customer for coming to the hotel\n",
    "print(\"Thank you for dining at Asanka Hotel\")"
   ]
  },
  {
   "cell_type": "code",
   "execution_count": null,
   "id": "b23ca9e8-446d-4e6a-b169-e1b3f50bde5e",
   "metadata": {},
   "outputs": [],
   "source": []
  }
 ],
 "metadata": {
  "kernelspec": {
   "display_name": "anaconda-2022.05-py39",
   "language": "python",
   "name": "conda-env-anaconda-2022.05-py39-py"
  },
  "language_info": {
   "codemirror_mode": {
    "name": "ipython",
    "version": 3
   },
   "file_extension": ".py",
   "mimetype": "text/x-python",
   "name": "python",
   "nbconvert_exporter": "python",
   "pygments_lexer": "ipython3",
   "version": "3.9.12"
  }
 },
 "nbformat": 4,
 "nbformat_minor": 5
}
